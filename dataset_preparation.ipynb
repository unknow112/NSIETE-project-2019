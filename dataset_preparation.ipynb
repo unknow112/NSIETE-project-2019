{
  "nbformat": 4,
  "nbformat_minor": 0,
  "metadata": {
    "colab": {
      "name": "dataset preparation",
      "provenance": []
    },
    "kernelspec": {
      "name": "python3",
      "display_name": "Python 3"
    }
  },
  "cells": [
    {
      "cell_type": "markdown",
      "metadata": {
        "id": "gTC2pb885gMJ",
        "colab_type": "text"
      },
      "source": [
        "# Dataset preparation\n",
        "you dont actually need to run this script to use model training notebook - the notebook will download already preprocessed images and train on those"
      ]
    },
    {
      "cell_type": "code",
      "metadata": {
        "id": "fYy3JFey5F-j",
        "colab_type": "code",
        "outputId": "d0779362-9518-4e5e-eef4-68cb8d47fd68",
        "colab": {
          "base_uri": "https://localhost:8080/",
          "height": 221
        }
      },
      "source": [
        "# clone all the scripts from project repo\n",
        "%%bash \n",
        "cd /content\n",
        "git init\n",
        "git remote add origin https://github.com/unknow112/NSIETE-project-2019.git\n",
        "git fetch --all \n",
        "git checkout master\n",
        "git status"
      ],
      "execution_count": 0,
      "outputs": [
        {
          "output_type": "stream",
          "text": [
            "Initialized empty Git repository in /content/.git/\n",
            "Fetching origin\n",
            "Branch 'master' set up to track remote branch 'master' from 'origin'.\n",
            "On branch master\n",
            "Your branch is up to date with 'origin/master'.\n",
            "\n",
            "nothing to commit, working tree clean\n"
          ],
          "name": "stdout"
        },
        {
          "output_type": "stream",
          "text": [
            "From https://github.com/unknow112/NSIETE-project-2019\n",
            " * [new branch]      dataset_of_one -> origin/dataset_of_one\n",
            " * [new branch]      gpu_optimizing -> origin/gpu_optimizing\n",
            " * [new branch]      master         -> origin/master\n",
            "Already on 'master'\n"
          ],
          "name": "stderr"
        }
      ]
    },
    {
      "cell_type": "code",
      "metadata": {
        "id": "Azos4aiS5NU-",
        "colab_type": "code",
        "colab": {}
      },
      "source": [
        "import create_dataset\n",
        "from os import scandir"
      ],
      "execution_count": 0,
      "outputs": []
    },
    {
      "cell_type": "code",
      "metadata": {
        "id": "FZaGFz_V5sFD",
        "colab_type": "code",
        "colab": {}
      },
      "source": [
        "#fetch dataset and prepare directories\n",
        "%%bash \n",
        "wget https://static.dthi.eu/datasets/Flickr2K.tar\n",
        "tar xvf Flickr2K.tar\n",
        "mkdir inputdata outputdata"
      ],
      "execution_count": 0,
      "outputs": []
    },
    {
      "cell_type": "markdown",
      "metadata": {
        "id": "163eNEOU6ytI",
        "colab_type": "text"
      },
      "source": [
        "Images are preprocessed as follows:\n",
        "1. cropped to the centered square\n",
        "2. resized to 32x32 px (input) and 128x128px (output)"
      ]
    },
    {
      "cell_type": "code",
      "metadata": {
        "id": "EMsOhveP6Y56",
        "colab_type": "code",
        "colab": {}
      },
      "source": [
        "# load and resize files\n",
        "FILES = filter(lambda x: 'png' in x.name, scandir(path='/content/Flickr2K/Flickr2K_HR'))\n",
        "create_dataset.workflow(FILES,{\n",
        "32: '/content/inputdata',\n",
        "128: '/content/outputdata'\n",
        "})\n"
      ],
      "execution_count": 0,
      "outputs": []
    },
    {
      "cell_type": "markdown",
      "metadata": {
        "id": "h4YfyFMVYV6m",
        "colab_type": "text"
      },
      "source": [
        "how to call `create_dataset.workflow` is described in help of module\n"
      ]
    },
    {
      "cell_type": "code",
      "metadata": {
        "id": "cB6XKUoRYapH",
        "colab_type": "code",
        "outputId": "594b1427-4501-4934-d5e7-fb73b769c5eb",
        "colab": {
          "base_uri": "https://localhost:8080/",
          "height": 1000
        }
      },
      "source": [
        "help(create_dataset)"
      ],
      "execution_count": 0,
      "outputs": [
        {
          "output_type": "stream",
          "text": [
            "Help on module create_dataset:\n",
            "\n",
            "NAME\n",
            "    create_dataset\n",
            "\n",
            "DESCRIPTION\n",
            "    take Images iterator and output folders, crop (find bigest centered square) \n",
            "    and resize images\n",
            "    \n",
            "    use function `workflow(image_iterator, output_folders)`\n",
            "    \n",
            "    Input: \n",
            "        image_iterator: iterator of objects where `path` member is full file \n",
            "            path, `name` member is filename and every object represents valid \n",
            "            image. See `os.scandir`\n",
            "    \n",
            "        output_folders: dictionary like:\n",
            "        ```\n",
            "        {\n",
            "            int squared_output_resolution : str  full_output_folder\n",
            "        }\n",
            "        ```\n",
            "    \n",
            "    Output: \n",
            "        images inside outputdirs\n",
            "\n",
            "CLASSES\n",
            "    builtins.object\n",
            "        FunctorWrapper\n",
            "    builtins.tuple(builtins.object)\n",
            "        Dir\n",
            "    \n",
            "    class Dir(builtins.tuple)\n",
            "     |  Dir(name, path)\n",
            "     |  \n",
            "     |  Method resolution order:\n",
            "     |      Dir\n",
            "     |      builtins.tuple\n",
            "     |      builtins.object\n",
            "     |  \n",
            "     |  Methods defined here:\n",
            "     |  \n",
            "     |  __getnewargs__(self)\n",
            "     |      Return self as a plain tuple.  Used by copy and pickle.\n",
            "     |  \n",
            "     |  __repr__(self)\n",
            "     |      Return a nicely formatted representation string\n",
            "     |  \n",
            "     |  _asdict(self)\n",
            "     |      Return a new OrderedDict which maps field names to their values.\n",
            "     |  \n",
            "     |  _replace(_self, **kwds)\n",
            "     |      Return a new Dir object replacing specified fields with new values\n",
            "     |  \n",
            "     |  ----------------------------------------------------------------------\n",
            "     |  Class methods defined here:\n",
            "     |  \n",
            "     |  _make(iterable, new=<built-in method __new__ of type object at 0x9d43a0>, len=<built-in function len>) from builtins.type\n",
            "     |      Make a new Dir object from a sequence or iterable\n",
            "     |  \n",
            "     |  ----------------------------------------------------------------------\n",
            "     |  Static methods defined here:\n",
            "     |  \n",
            "     |  __new__(_cls, name, path)\n",
            "     |      Create new instance of Dir(name, path)\n",
            "     |  \n",
            "     |  ----------------------------------------------------------------------\n",
            "     |  Data descriptors defined here:\n",
            "     |  \n",
            "     |  name\n",
            "     |      Alias for field number 0\n",
            "     |  \n",
            "     |  path\n",
            "     |      Alias for field number 1\n",
            "     |  \n",
            "     |  ----------------------------------------------------------------------\n",
            "     |  Data and other attributes defined here:\n",
            "     |  \n",
            "     |  _fields = ('name', 'path')\n",
            "     |  \n",
            "     |  _source = \"from builtins import property as _property, tupl..._itemget...\n",
            "     |  \n",
            "     |  ----------------------------------------------------------------------\n",
            "     |  Methods inherited from builtins.tuple:\n",
            "     |  \n",
            "     |  __add__(self, value, /)\n",
            "     |      Return self+value.\n",
            "     |  \n",
            "     |  __contains__(self, key, /)\n",
            "     |      Return key in self.\n",
            "     |  \n",
            "     |  __eq__(self, value, /)\n",
            "     |      Return self==value.\n",
            "     |  \n",
            "     |  __ge__(self, value, /)\n",
            "     |      Return self>=value.\n",
            "     |  \n",
            "     |  __getattribute__(self, name, /)\n",
            "     |      Return getattr(self, name).\n",
            "     |  \n",
            "     |  __getitem__(self, key, /)\n",
            "     |      Return self[key].\n",
            "     |  \n",
            "     |  __gt__(self, value, /)\n",
            "     |      Return self>value.\n",
            "     |  \n",
            "     |  __hash__(self, /)\n",
            "     |      Return hash(self).\n",
            "     |  \n",
            "     |  __iter__(self, /)\n",
            "     |      Implement iter(self).\n",
            "     |  \n",
            "     |  __le__(self, value, /)\n",
            "     |      Return self<=value.\n",
            "     |  \n",
            "     |  __len__(self, /)\n",
            "     |      Return len(self).\n",
            "     |  \n",
            "     |  __lt__(self, value, /)\n",
            "     |      Return self<value.\n",
            "     |  \n",
            "     |  __mul__(self, value, /)\n",
            "     |      Return self*value.\n",
            "     |  \n",
            "     |  __ne__(self, value, /)\n",
            "     |      Return self!=value.\n",
            "     |  \n",
            "     |  __rmul__(self, value, /)\n",
            "     |      Return value*self.\n",
            "     |  \n",
            "     |  count(...)\n",
            "     |      T.count(value) -> integer -- return number of occurrences of value\n",
            "     |  \n",
            "     |  index(...)\n",
            "     |      T.index(value, [start, [stop]]) -> integer -- return first index of value.\n",
            "     |      Raises ValueError if the value is not present.\n",
            "    \n",
            "    class FunctorWrapper(builtins.object)\n",
            "     |  Methods defined here:\n",
            "     |  \n",
            "     |  __call__(self, image)\n",
            "     |      Call self as a function.\n",
            "     |  \n",
            "     |  __init__(self, of)\n",
            "     |      Initialize self.  See help(type(self)) for accurate signature.\n",
            "     |  \n",
            "     |  ----------------------------------------------------------------------\n",
            "     |  Data descriptors defined here:\n",
            "     |  \n",
            "     |  __dict__\n",
            "     |      dictionary for instance variables (if defined)\n",
            "     |  \n",
            "     |  __weakref__\n",
            "     |      list of weak references to the object (if defined)\n",
            "\n",
            "FUNCTIONS\n",
            "    open_images(iterator)\n",
            "    \n",
            "    workflow(image_iterator, output_folders)\n",
            "\n",
            "FILE\n",
            "    /content/create_dataset.py\n",
            "\n",
            "\n"
          ],
          "name": "stdout"
        }
      ]
    },
    {
      "cell_type": "markdown",
      "metadata": {
        "id": "TWLpWDn07AfF",
        "colab_type": "text"
      },
      "source": [
        "Result of running this notebook should be equivalent to the content of [devel_dataset.zip](http://static.dthi.eu/datasets/devel_dataset.zip) which is used by model training notebook"
      ]
    }
  ]
}