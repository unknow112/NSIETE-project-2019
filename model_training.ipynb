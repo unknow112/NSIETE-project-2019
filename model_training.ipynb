{
  "nbformat": 4,
  "nbformat_minor": 0,
  "metadata": {
    "colab": {
      "name": "trenovanie modelu",
      "provenance": [],
      "machine_shape": "hm"
    },
    "kernelspec": {
      "name": "python3",
      "display_name": "Python 3"
    },
    "accelerator": "GPU"
  },
  "cells": [
    {
      "cell_type": "code",
      "metadata": {
        "id": "aWrDTkniO1oQ",
        "colab_type": "code",
        "outputId": "d8501c58-7773-4ff8-a357-560a00cf30c9",
        "colab": {
          "base_uri": "https://localhost:8080/",
          "height": 105
        }
      },
      "source": [
        "%tensorflow_version 2.x\n",
        "import tensorflow as tf\n",
        "import tensorflow.keras as keras\n",
        "import tensorflow_gan as tfgan\n",
        "from importlib import reload\n",
        "%load_ext tensorboard\n",
        "tf.config.experimental.list_physical_devices('GPU')"
      ],
      "execution_count": 1,
      "outputs": [
        {
          "output_type": "stream",
          "text": [
            "TensorFlow 2.x selected.\n",
            "WARNING:tensorflow:From /usr/local/lib/python3.6/dist-packages/tensorflow_gan/python/estimator/tpu_gan_estimator.py:42: The name tf.estimator.tpu.TPUEstimator is deprecated. Please use tf.compat.v1.estimator.tpu.TPUEstimator instead.\n",
            "\n"
          ],
          "name": "stdout"
        },
        {
          "output_type": "execute_result",
          "data": {
            "text/plain": [
              "[PhysicalDevice(name='/physical_device:GPU:0', device_type='GPU')]"
            ]
          },
          "metadata": {
            "tags": []
          },
          "execution_count": 1
        }
      ]
    },
    {
      "cell_type": "code",
      "metadata": {
        "id": "9KILUFRARyP1",
        "colab_type": "code",
        "colab": {}
      },
      "source": [
        "%%bash \n",
        "#load sources and train sample\n",
        "cd /content\n",
        "git init\n",
        "git remote add origin https://github.com/unknow112/NSIETE-project-2019.git\n",
        "git fetch --all \n",
        "git checkout master\n",
        "git status\n",
        "wget https://static.dthi.eu/datasets/devel_dataset.zip\n",
        "unzip devel_dataset.zip"
      ],
      "execution_count": 0,
      "outputs": []
    },
    {
      "cell_type": "code",
      "metadata": {
        "id": "GQJYDUTkOfa6",
        "colab_type": "code",
        "outputId": "26e35c61-04e1-406f-8a80-ec3fce52bcb2",
        "colab": {
          "base_uri": "https://localhost:8080/",
          "height": 34
        }
      },
      "source": [
        "!git pull\n",
        "import flow\n",
        "import generator\n",
        "import gan\n",
        "import discriminator \n",
        "reload(discriminator)\n",
        "reload(generator)\n",
        "reload(gan)\n",
        "reload(flow)\n",
        "from flow import *\n",
        "from gan import Gan\n",
        "import pdb\n",
        "import skimage.io"
      ],
      "execution_count": 3,
      "outputs": [
        {
          "output_type": "stream",
          "text": [
            "Already up to date.\n"
          ],
          "name": "stdout"
        }
      ]
    },
    {
      "cell_type": "code",
      "metadata": {
        "id": "L4Mr6AjarOVN",
        "colab_type": "code",
        "colab": {}
      },
      "source": [
        "gc.collect()\n",
        "model = train(epoch_count=10, batch_size=20, hr_images=HR_IMAGES, lr_images=LR_IMAGES)"
      ],
      "execution_count": 0,
      "outputs": []
    },
    {
      "cell_type": "markdown",
      "metadata": {
        "id": "Ku9N51KuSHnk",
        "colab_type": "text"
      },
      "source": [
        "To collect stats above we are using script `main.py` which can be used to collect such output into file. it takes one argument used as filename for weights and it outputs the train details into stdout (which can be captured using linux tool `tee`, for example) "
      ]
    },
    {
      "cell_type": "code",
      "metadata": {
        "id": "URdGeQ-tma2X",
        "colab_type": "code",
        "outputId": "0c540051-f5e9-4b0f-ec69-83381395d1e3",
        "colab": {
          "base_uri": "https://localhost:8080/",
          "height": 122
        }
      },
      "source": [
        "#if wanted, the model is exported into users google drive\n",
        "from google.colab import drive\n",
        "drive.mount('/content/gdrive')"
      ],
      "execution_count": 0,
      "outputs": [
        {
          "output_type": "stream",
          "text": [
            "Go to this URL in a browser: https://accounts.google.com/o/oauth2/auth?client_id=947318989803-6bn6qk8qdgf4n4g3pfee6491hc0brc4i.apps.googleusercontent.com&redirect_uri=urn%3aietf%3awg%3aoauth%3a2.0%3aoob&response_type=code&scope=email%20https%3a%2f%2fwww.googleapis.com%2fauth%2fdocs.test%20https%3a%2f%2fwww.googleapis.com%2fauth%2fdrive%20https%3a%2f%2fwww.googleapis.com%2fauth%2fdrive.photos.readonly%20https%3a%2f%2fwww.googleapis.com%2fauth%2fpeopleapi.readonly\n",
            "\n",
            "Enter your authorization code:\n",
            "··········\n",
            "Mounted at /content/gdrive\n"
          ],
          "name": "stdout"
        }
      ]
    },
    {
      "cell_type": "code",
      "metadata": {
        "id": "k8OB-AgsI6fF",
        "colab_type": "code",
        "colab": {}
      },
      "source": [
        "model.save_weights('89ee32dec9b217e28d5c28e10cb23fb6911d410c.model')"
      ],
      "execution_count": 0,
      "outputs": []
    },
    {
      "cell_type": "code",
      "metadata": {
        "id": "1QBNZiICG7D4",
        "colab_type": "code",
        "colab": {}
      },
      "source": [
        "# copy saved model into google drive to export\n",
        "%%bash\n",
        "cp 89ee32dec9b217e28d5c28e10cb23fb6911d410c.model* /content/gdrive"
      ],
      "execution_count": 0,
      "outputs": []
    },
    {
      "cell_type": "code",
      "metadata": {
        "id": "bBE42laHhF1y",
        "colab_type": "code",
        "colab": {}
      },
      "source": [
        "%%bash\n",
        "wget https://static.dthi.eu/datasets/models/89ee32dec9b217e28d5c28e10cb23fb6911d410c.model.zip\n",
        "unzip 89ee32dec9b217e28d5c28e10cb23fb6911d410c.model.zip"
      ],
      "execution_count": 0,
      "outputs": []
    },
    {
      "cell_type": "code",
      "metadata": {
        "id": "Ec3tMm2xt9J1",
        "colab_type": "code",
        "outputId": "29fa8eca-a525-43c1-abf6-ef677806f60a",
        "colab": {
          "base_uri": "https://localhost:8080/",
          "height": 34
        }
      },
      "source": [
        "#@title how to load back existing model\n",
        "model = Gan()\n",
        "model.load_weights('89ee32dec9b217e28d5c28e10cb23fb6911d410c.model')"
      ],
      "execution_count": 5,
      "outputs": [
        {
          "output_type": "execute_result",
          "data": {
            "text/plain": [
              "<tensorflow.python.training.tracking.util.CheckpointLoadStatus at 0x7fce71c1a048>"
            ]
          },
          "metadata": {
            "tags": []
          },
          "execution_count": 5
        }
      ]
    },
    {
      "cell_type": "markdown",
      "metadata": {
        "id": "ghWcVu6-HKeS",
        "colab_type": "text"
      },
      "source": [
        "Lines used to show generated image"
      ]
    },
    {
      "cell_type": "code",
      "metadata": {
        "id": "2llj5dFrnVyg",
        "colab_type": "code",
        "colab": {}
      },
      "source": [
        "def denormalize(x):\n",
        "  return ((x * 127.5) + 127.5).astype(int) % 256\n",
        "\n",
        "i = load_and_normalize('inputdata/002650.png')\n",
        "\n",
        "resized = model.predict(np.array([i]))\n",
        "\n",
        "resized = denormalize(resized[0][0])\n",
        "\n",
        "\n"
      ],
      "execution_count": 0,
      "outputs": []
    },
    {
      "cell_type": "code",
      "metadata": {
        "id": "toxyOi0ioBVL",
        "colab_type": "code",
        "outputId": "48b4b635-a67d-45a7-eb82-a76bf38f19f3",
        "colab": {
          "base_uri": "https://localhost:8080/",
          "height": 358
        }
      },
      "source": [
        "import PIL \n",
        "from IPython.display import display\n",
        "\n",
        "skimage.io.imsave('test.png', resized)\n",
        "eh =  PIL.Image.open('test.png')\n",
        "#vankus = PIL.Image.fromarray(resized)\n",
        "display(eh)\n",
        "eh =  PIL.Image.open('outputdata/002650.png')\n",
        "display(eh)"
      ],
      "execution_count": 35,
      "outputs": [
        {
          "output_type": "stream",
          "text": [
            "/usr/local/lib/python3.6/dist-packages/skimage/util/dtype.py:135: UserWarning: Possible precision loss when converting from int64 to float64\n",
            "  .format(dtypeobj_in, dtypeobj_out))\n",
            "/usr/local/lib/python3.6/dist-packages/skimage/io/_io.py:141: UserWarning: test.png is a low contrast image\n",
            "  warn('%s is a low contrast image' % fname)\n",
            "WARNING:root:Lossy conversion from int64 to uint8. Range [0, 255]. Convert image to uint8 prior to saving to suppress this warning.\n"
          ],
          "name": "stderr"
        },
        {
          "output_type": "display_data",
          "data": {
            "image/png": "[encoded data removed]",
            "text/plain": [
              "<PIL.PngImagePlugin.PngImageFile image mode=RGB size=128x128 at 0x7FEDE9BEFDD8>"
            ]
          },
          "metadata": {
            "tags": []
          }
        },
        {
          "output_type": "display_data",
          "data": {
            "image/png": "[encoded data removed]",
            "text/plain": [
              "<PIL.PngImagePlugin.PngImageFile image mode=RGB size=128x128 at 0x7FEDE9B5E2E8>"
            ]
          },
          "metadata": {
            "tags": []
          }
        }
      ]
    }
  ]
}